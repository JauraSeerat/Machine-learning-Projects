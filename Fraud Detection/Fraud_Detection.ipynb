{
  "nbformat": 4,
  "nbformat_minor": 0,
  "metadata": {
    "colab": {
      "name": "Fraud Detection.ipynb",
      "version": "0.3.2",
      "provenance": []
    },
    "kernelspec": {
      "name": "python3",
      "display_name": "Python 3"
    }
  },
  "cells": [
    {
      "cell_type": "markdown",
      "metadata": {
        "id": "dAjM4iZ_RVbP",
        "colab_type": "text"
      },
      "source": [
        "Simple model for Fraud Detection"
      ]
    },
    {
      "cell_type": "code",
      "metadata": {
        "id": "-UVd1rhCiFv9",
        "colab_type": "code",
        "colab": {}
      },
      "source": [
        "import numpy as np \n",
        "import sklearn as sk\n",
        "import pandas as pd\n",
        "import matplotlib.pyplot as plt\n",
        "from sklearn.preprocessing import scale\n",
        "import random"
      ],
      "execution_count": 0,
      "outputs": []
    },
    {
      "cell_type": "code",
      "metadata": {
        "id": "R8FpFirXkFp7",
        "colab_type": "code",
        "colab": {
          "base_uri": "https://localhost:8080/",
          "height": 224
        },
        "outputId": "062f7cdb-5c39-47c5-c02b-fbb6b8a84f75"
      },
      "source": [
        "df = pd.read_csv(\"creditcard.csv\",low_memory= False)\n",
        "df = df.sample(frac=1).reset_index(drop=True)\n",
        "df.head()"
      ],
      "execution_count": 4,
      "outputs": [
        {
          "output_type": "execute_result",
          "data": {
            "text/html": [
              "<div>\n",
              "<style scoped>\n",
              "    .dataframe tbody tr th:only-of-type {\n",
              "        vertical-align: middle;\n",
              "    }\n",
              "\n",
              "    .dataframe tbody tr th {\n",
              "        vertical-align: top;\n",
              "    }\n",
              "\n",
              "    .dataframe thead th {\n",
              "        text-align: right;\n",
              "    }\n",
              "</style>\n",
              "<table border=\"1\" class=\"dataframe\">\n",
              "  <thead>\n",
              "    <tr style=\"text-align: right;\">\n",
              "      <th></th>\n",
              "      <th>Time</th>\n",
              "      <th>V1</th>\n",
              "      <th>V2</th>\n",
              "      <th>V3</th>\n",
              "      <th>V4</th>\n",
              "      <th>V5</th>\n",
              "      <th>V6</th>\n",
              "      <th>V7</th>\n",
              "      <th>V8</th>\n",
              "      <th>V9</th>\n",
              "      <th>V10</th>\n",
              "      <th>V11</th>\n",
              "      <th>V12</th>\n",
              "      <th>V13</th>\n",
              "      <th>V14</th>\n",
              "      <th>V15</th>\n",
              "      <th>V16</th>\n",
              "      <th>V17</th>\n",
              "      <th>V18</th>\n",
              "      <th>V19</th>\n",
              "      <th>V20</th>\n",
              "      <th>V21</th>\n",
              "      <th>V22</th>\n",
              "      <th>V23</th>\n",
              "      <th>V24</th>\n",
              "      <th>V25</th>\n",
              "      <th>V26</th>\n",
              "      <th>V27</th>\n",
              "      <th>V28</th>\n",
              "      <th>Amount</th>\n",
              "      <th>Class</th>\n",
              "    </tr>\n",
              "  </thead>\n",
              "  <tbody>\n",
              "    <tr>\n",
              "      <th>0</th>\n",
              "      <td>52834.0</td>\n",
              "      <td>-0.677020</td>\n",
              "      <td>1.177924</td>\n",
              "      <td>1.740986</td>\n",
              "      <td>3.598803</td>\n",
              "      <td>-0.307167</td>\n",
              "      <td>0.477159</td>\n",
              "      <td>-0.212999</td>\n",
              "      <td>0.611417</td>\n",
              "      <td>-1.287445</td>\n",
              "      <td>0.441713</td>\n",
              "      <td>-0.567045</td>\n",
              "      <td>0.237730</td>\n",
              "      <td>0.242009</td>\n",
              "      <td>0.207043</td>\n",
              "      <td>0.356728</td>\n",
              "      <td>-1.178512</td>\n",
              "      <td>1.275059</td>\n",
              "      <td>-0.600549</td>\n",
              "      <td>1.342476</td>\n",
              "      <td>0.113204</td>\n",
              "      <td>0.153258</td>\n",
              "      <td>0.547358</td>\n",
              "      <td>-0.046115</td>\n",
              "      <td>0.458825</td>\n",
              "      <td>-0.396966</td>\n",
              "      <td>0.374871</td>\n",
              "      <td>0.084324</td>\n",
              "      <td>0.057964</td>\n",
              "      <td>9.73</td>\n",
              "      <td>0</td>\n",
              "    </tr>\n",
              "    <tr>\n",
              "      <th>1</th>\n",
              "      <td>164222.0</td>\n",
              "      <td>-1.202833</td>\n",
              "      <td>1.065527</td>\n",
              "      <td>1.454517</td>\n",
              "      <td>-0.887965</td>\n",
              "      <td>0.348124</td>\n",
              "      <td>0.690149</td>\n",
              "      <td>0.271819</td>\n",
              "      <td>0.339469</td>\n",
              "      <td>0.408776</td>\n",
              "      <td>-0.115835</td>\n",
              "      <td>0.133491</td>\n",
              "      <td>0.090404</td>\n",
              "      <td>-0.663506</td>\n",
              "      <td>-0.002995</td>\n",
              "      <td>0.187201</td>\n",
              "      <td>0.344801</td>\n",
              "      <td>-0.848217</td>\n",
              "      <td>0.810253</td>\n",
              "      <td>0.936181</td>\n",
              "      <td>0.216338</td>\n",
              "      <td>-0.233371</td>\n",
              "      <td>-0.620246</td>\n",
              "      <td>-0.258368</td>\n",
              "      <td>0.028282</td>\n",
              "      <td>0.451284</td>\n",
              "      <td>-0.430217</td>\n",
              "      <td>0.144723</td>\n",
              "      <td>0.187978</td>\n",
              "      <td>7.98</td>\n",
              "      <td>0</td>\n",
              "    </tr>\n",
              "    <tr>\n",
              "      <th>2</th>\n",
              "      <td>127.0</td>\n",
              "      <td>1.356489</td>\n",
              "      <td>-0.221355</td>\n",
              "      <td>-1.236996</td>\n",
              "      <td>-1.246835</td>\n",
              "      <td>1.907809</td>\n",
              "      <td>3.103911</td>\n",
              "      <td>-0.603384</td>\n",
              "      <td>0.762841</td>\n",
              "      <td>0.118339</td>\n",
              "      <td>-0.129794</td>\n",
              "      <td>0.009452</td>\n",
              "      <td>0.040664</td>\n",
              "      <td>0.063020</td>\n",
              "      <td>0.375077</td>\n",
              "      <td>1.322872</td>\n",
              "      <td>0.581876</td>\n",
              "      <td>-0.803960</td>\n",
              "      <td>-0.054106</td>\n",
              "      <td>0.443846</td>\n",
              "      <td>0.052997</td>\n",
              "      <td>-0.163829</td>\n",
              "      <td>-0.602688</td>\n",
              "      <td>0.011113</td>\n",
              "      <td>1.063845</td>\n",
              "      <td>0.400726</td>\n",
              "      <td>0.975862</td>\n",
              "      <td>-0.081220</td>\n",
              "      <td>-0.003314</td>\n",
              "      <td>1.54</td>\n",
              "      <td>0</td>\n",
              "    </tr>\n",
              "    <tr>\n",
              "      <th>3</th>\n",
              "      <td>81607.0</td>\n",
              "      <td>1.230681</td>\n",
              "      <td>0.681658</td>\n",
              "      <td>0.529049</td>\n",
              "      <td>2.358968</td>\n",
              "      <td>0.147218</td>\n",
              "      <td>-0.232780</td>\n",
              "      <td>0.191221</td>\n",
              "      <td>-0.152884</td>\n",
              "      <td>-0.874954</td>\n",
              "      <td>0.654975</td>\n",
              "      <td>-0.770957</td>\n",
              "      <td>0.383908</td>\n",
              "      <td>1.339417</td>\n",
              "      <td>0.007632</td>\n",
              "      <td>0.444245</td>\n",
              "      <td>0.805502</td>\n",
              "      <td>-0.892181</td>\n",
              "      <td>-0.289254</td>\n",
              "      <td>-0.825635</td>\n",
              "      <td>-0.064285</td>\n",
              "      <td>-0.093380</td>\n",
              "      <td>-0.244346</td>\n",
              "      <td>-0.050984</td>\n",
              "      <td>-0.109101</td>\n",
              "      <td>0.529819</td>\n",
              "      <td>-0.046514</td>\n",
              "      <td>-0.000929</td>\n",
              "      <td>0.021528</td>\n",
              "      <td>0.79</td>\n",
              "      <td>0</td>\n",
              "    </tr>\n",
              "    <tr>\n",
              "      <th>4</th>\n",
              "      <td>141547.0</td>\n",
              "      <td>-3.027658</td>\n",
              "      <td>2.630481</td>\n",
              "      <td>-0.855729</td>\n",
              "      <td>-3.051705</td>\n",
              "      <td>-0.237334</td>\n",
              "      <td>-1.402803</td>\n",
              "      <td>1.045721</td>\n",
              "      <td>-0.569462</td>\n",
              "      <td>2.081598</td>\n",
              "      <td>4.904614</td>\n",
              "      <td>-0.593765</td>\n",
              "      <td>-0.771698</td>\n",
              "      <td>-0.059907</td>\n",
              "      <td>-1.837139</td>\n",
              "      <td>-1.068400</td>\n",
              "      <td>0.244181</td>\n",
              "      <td>-0.310941</td>\n",
              "      <td>-2.118674</td>\n",
              "      <td>-0.211051</td>\n",
              "      <td>1.956424</td>\n",
              "      <td>-0.555012</td>\n",
              "      <td>0.110404</td>\n",
              "      <td>0.004927</td>\n",
              "      <td>-0.082790</td>\n",
              "      <td>-0.062591</td>\n",
              "      <td>-0.646698</td>\n",
              "      <td>0.546113</td>\n",
              "      <td>-0.409275</td>\n",
              "      <td>0.99</td>\n",
              "      <td>0</td>\n",
              "    </tr>\n",
              "  </tbody>\n",
              "</table>\n",
              "</div>"
            ],
            "text/plain": [
              "       Time        V1        V2        V3  ...       V27       V28  Amount  Class\n",
              "0   52834.0 -0.677020  1.177924  1.740986  ...  0.084324  0.057964    9.73      0\n",
              "1  164222.0 -1.202833  1.065527  1.454517  ...  0.144723  0.187978    7.98      0\n",
              "2     127.0  1.356489 -0.221355 -1.236996  ... -0.081220 -0.003314    1.54      0\n",
              "3   81607.0  1.230681  0.681658  0.529049  ... -0.000929  0.021528    0.79      0\n",
              "4  141547.0 -3.027658  2.630481 -0.855729  ...  0.546113 -0.409275    0.99      0\n",
              "\n",
              "[5 rows x 31 columns]"
            ]
          },
          "metadata": {
            "tags": []
          },
          "execution_count": 4
        }
      ]
    },
    {
      "cell_type": "markdown",
      "metadata": {
        "id": "twRp3bOIIVTk",
        "colab_type": "text"
      },
      "source": [
        "Exploring data"
      ]
    },
    {
      "cell_type": "code",
      "metadata": {
        "id": "pTQnNDEfH1LN",
        "colab_type": "code",
        "colab": {
          "base_uri": "https://localhost:8080/",
          "height": 51
        },
        "outputId": "e7e4a26e-b0b3-4dfc-f018-2ce6a3796962"
      },
      "source": [
        "fraud = df.loc[df['Class']==1] # 1 represent frauds\n",
        "non_frauds = df.loc[df['Class']==0] # 0 represent no frauds\n",
        "print(len(fraud))\n",
        "print(len(non_frauds))\n"
      ],
      "execution_count": 6,
      "outputs": [
        {
          "output_type": "stream",
          "text": [
            "492\n",
            "284315\n"
          ],
          "name": "stdout"
        }
      ]
    },
    {
      "cell_type": "code",
      "metadata": {
        "id": "S9h6W3TSILiy",
        "colab_type": "code",
        "colab": {
          "base_uri": "https://localhost:8080/",
          "height": 549
        },
        "outputId": "957b6108-f09a-42de-a3eb-942f6563d255"
      },
      "source": [
        "ax = fraud.plot.scatter(x= \"Amount\",y= \"Class\", color=\"Orange\",label =\"Fraud\")\n",
        "non_frauds.plot.scatter(x=\"Amount\", y= \"Class\", color=\"Blue\", label =\"Normal\")\n",
        "plt.show()"
      ],
      "execution_count": 9,
      "outputs": [
        {
          "output_type": "display_data",
          "data": {
            "image/png": "[encoded data removed]",
            "text/plain": [
              "<Figure size 432x288 with 1 Axes>"
            ]
          },
          "metadata": {
            "tags": []
          }
        },
        {
          "output_type": "display_data",
          "data": {
            "image/png": "[encoded data removed]",
            "text/plain": [
              "<Figure size 432x288 with 1 Axes>"
            ]
          },
          "metadata": {
            "tags": []
          }
        }
      ]
    },
    {
      "cell_type": "code",
      "metadata": {
        "id": "XQ0fbvmPJn6u",
        "colab_type": "code",
        "colab": {}
      },
      "source": [
        "from sklearn import linear_model\n",
        "from sklearn.model_selection import train_test_split"
      ],
      "execution_count": 0,
      "outputs": []
    },
    {
      "cell_type": "code",
      "metadata": {
        "id": "iVsgcWfvL_Ve",
        "colab_type": "code",
        "colab": {}
      },
      "source": [
        "x = df.iloc[:,:-1] # exclude the last column\n",
        "y = df['Class']\n",
        "\n",
        "X_train, X_test, y_train, y_test = train_test_split(x, y, test_size= 0.35)"
      ],
      "execution_count": 0,
      "outputs": []
    },
    {
      "cell_type": "code",
      "metadata": {
        "id": "x42P9f_KNMx4",
        "colab_type": "code",
        "colab": {
          "base_uri": "https://localhost:8080/",
          "height": 88
        },
        "outputId": "eb2b8a34-1ca8-4a00-b265-c6f695e16349"
      },
      "source": [
        "logistic = linear_model.LogisticRegression(C= 1e5)\n",
        "logistic.fit(X_train, y_train)\n",
        "print(\"Score:\", logistic.score(X_test, y_test))"
      ],
      "execution_count": 12,
      "outputs": [
        {
          "output_type": "stream",
          "text": [
            "/usr/local/lib/python3.6/dist-packages/sklearn/linear_model/logistic.py:432: FutureWarning: Default solver will be changed to 'lbfgs' in 0.22. Specify a solver to silence this warning.\n",
            "  FutureWarning)\n"
          ],
          "name": "stderr"
        },
        {
          "output_type": "stream",
          "text": [
            "Score: 0.9986858340940782\n"
          ],
          "name": "stdout"
        }
      ]
    },
    {
      "cell_type": "code",
      "metadata": {
        "id": "SdvYG4CFN4US",
        "colab_type": "code",
        "colab": {
          "base_uri": "https://localhost:8080/",
          "height": 34
        },
        "outputId": "5a3224d4-ef3d-455a-cd11-615190bafbb0"
      },
      "source": [
        "y_predicted = np.array(logistic.predict(X_test))\n",
        "print(y_predicted)"
      ],
      "execution_count": 13,
      "outputs": [
        {
          "output_type": "stream",
          "text": [
            "[0 0 0 ... 0 0 0]\n"
          ],
          "name": "stdout"
        }
      ]
    },
    {
      "cell_type": "code",
      "metadata": {
        "id": "_uD85RMvOPAr",
        "colab_type": "code",
        "colab": {}
      },
      "source": [
        ""
      ],
      "execution_count": 0,
      "outputs": []
    }
  ]
}